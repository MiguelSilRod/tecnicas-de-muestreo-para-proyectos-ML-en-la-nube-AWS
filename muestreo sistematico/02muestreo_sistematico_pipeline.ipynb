{
 "cells": [
  {
   "cell_type": "code",
   "execution_count": 1,
   "id": "44539263",
   "metadata": {},
   "outputs": [
    {
     "name": "stdout",
     "output_type": "stream",
     "text": [
      "\u001b[33m    WARNING: No metadata found in /home/ec2-user/anaconda3/envs/python3/lib/python3.10/site-packages\u001b[0m\u001b[33m\n",
      "\u001b[0m\u001b[31mERROR: pip's dependency resolver does not currently take into account all the packages that are installed. This behaviour is the source of the following dependency conflicts.\n",
      "awscli 1.27.44 requires botocore==1.29.44, but you have botocore 1.29.62 which is incompatible.\n",
      "aiobotocore 2.0.1 requires botocore<1.22.9,>=1.22.8, but you have botocore 1.29.62 which is incompatible.\u001b[0m\u001b[31m\n",
      "\u001b[0m"
     ]
    }
   ],
   "source": [
    "!pip -q install awswrangler"
   ]
  },
  {
   "cell_type": "code",
   "execution_count": 1,
   "id": "98884c71",
   "metadata": {},
   "outputs": [],
   "source": [
    "import awswrangler as wr"
   ]
  },
  {
   "cell_type": "code",
   "execution_count": 2,
   "id": "39068719",
   "metadata": {},
   "outputs": [],
   "source": [
    "import pandas as pd\n",
    "import awswrangler as wr\n",
    "import sagemaker\n",
    "from sagemaker import get_execution_role\n",
    "import datetime\n",
    "from sagemaker.sklearn.estimator import SKLearn\n",
    "import boto3\n",
    "from sagemaker import image_uris\n",
    "from sagemaker.session import Session\n",
    "from sagemaker.inputs import TrainingInput\n",
    "from sagemaker.model import Model\n",
    "from sagemaker.pipeline import PipelineModel\n",
    "from sagemaker.sklearn import SKLearn\n",
    "from sagemaker.sklearn.model import SKLearnModel\n",
    "\n",
    "sagemaker_session = sagemaker.Session()\n",
    "role = get_execution_role()"
   ]
  },
  {
   "cell_type": "code",
   "execution_count": 4,
   "id": "2edf6dbb",
   "metadata": {},
   "outputs": [],
   "source": [
    "import awswrangler as wr\n",
    "import pandas as pd\n",
    "import numpy as np\n",
    "import matplotlib.pyplot as plt\n",
    "import seaborn as sns\n",
    "%matplotlib inline\n",
    "plt.rcParams[\"figure.figsize\"] =8,4 # para ajustar el tamaño de imagen\n",
    "import warnings\n",
    "warnings.filterwarnings(\"ignore\") #para evitar errores de operaciones matematicas\n",
    "import random\n",
    "import statistics\n",
    "import math\n",
    "#from pandas_profiling import ProfileReport"
   ]
  },
  {
   "cell_type": "code",
   "execution_count": 9,
   "id": "8cd06858",
   "metadata": {},
   "outputs": [],
   "source": [
    "tecnica='sist-estimacion-puntual'\n",
    "main_path_s3='s3://data-tecnicas-muestreo/'\n",
    "output_path = 's3://data-tecnicas-muestreo/'"
   ]
  },
  {
   "cell_type": "code",
   "execution_count": 10,
   "id": "84351f92",
   "metadata": {},
   "outputs": [
    {
     "name": "stderr",
     "output_type": "stream",
     "text": [
      "INFO:sagemaker:Creating training-job with name: sist-estimacion-puntual-20230220-223218\n"
     ]
    },
    {
     "name": "stdout",
     "output_type": "stream",
     "text": [
      "\n",
      "2023-02-20 22:32:19 Starting - Starting the training job...\n",
      "2023-02-20 22:32:37 Starting - Preparing the instances for training........\n",
      "2023-02-20 22:33:23 Downloading - Downloading input data....\n",
      "2023-02-20 22:33:48 Training - Downloading the training image\n",
      "2023-02-20 22:33:53 Training - Training image download completed. Training in progress............\n",
      "2023-02-20 22:34:54 Uploading - Uploading generated training model\n",
      "2023-02-20 22:34:59 Completed - Training job completed\n",
      "sist-estimacion-puntual-20230220-223218\n",
      "CPU times: user 170 ms, sys: 11.6 ms, total: 182 ms\n",
      "Wall time: 2min 41s\n"
     ]
    }
   ],
   "source": [
    "%%time\n",
    "FRAMEWORK_VERSION = \"0.23-1\"\n",
    "script_path = 'training_job_muestreo_sistematico_estimacion_puntual.py'\n",
    "sklearn_preprocessor = SKLearn(\n",
    "    entry_point=script_path,\n",
    "    role=role,\n",
    "    framework_version=FRAMEWORK_VERSION,\n",
    "    instance_type=\"ml.m5.4xlarge\",\n",
    "    sagemaker_session=sagemaker_session)\n",
    "\n",
    "\n",
    "\n",
    "\n",
    "timestamp = datetime.datetime.now().strftime('%Y%m%d-%H%M%S')\n",
    "pre_job_name = f'{tecnica}-{timestamp}'\n",
    "\n",
    "sklearn_preprocessor.fit(\n",
    "    {'train': main_path_s3},\n",
    "    {'multi-output-path': output_path},\n",
    "    logs='None',\n",
    "    job_name=pre_job_name\n",
    ")\n",
    "print(pre_job_name)"
   ]
  },
  {
   "cell_type": "code",
   "execution_count": null,
   "id": "e395ca59",
   "metadata": {},
   "outputs": [],
   "source": []
  },
  {
   "cell_type": "code",
   "execution_count": null,
   "id": "d79819ef-3dbf-405c-a375-88771a75b4f0",
   "metadata": {},
   "outputs": [],
   "source": []
  }
 ],
 "metadata": {
  "kernelspec": {
   "display_name": "conda_python3",
   "language": "python",
   "name": "conda_python3"
  },
  "language_info": {
   "codemirror_mode": {
    "name": "ipython",
    "version": 3
   },
   "file_extension": ".py",
   "mimetype": "text/x-python",
   "name": "python",
   "nbconvert_exporter": "python",
   "pygments_lexer": "ipython3",
   "version": "3.10.6"
  }
 },
 "nbformat": 4,
 "nbformat_minor": 5
}
