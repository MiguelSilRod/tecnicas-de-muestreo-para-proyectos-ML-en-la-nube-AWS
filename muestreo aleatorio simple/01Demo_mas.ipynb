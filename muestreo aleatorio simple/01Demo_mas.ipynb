{
 "cells": [
  {
   "cell_type": "markdown",
   "id": "0913533c-0407-4d10-a972-0ab01d97676a",
   "metadata": {},
   "source": [
    "## Demo\n",
    "\n",
    "**Dataset**: Telco Customer Churn\n",
    "\n",
    "Cada fila representa un cliente, cada columna contiene los atributos del cliente.\n",
    "\n",
    "El conjunto de datos incluye información sobre:\n",
    "\n",
    "- Clientes que se fueron en el último mes: Churn\n",
    "\n",
    "- Servicios a los que cada cliente se ha suscrito: teléfono, líneas múltiples, Internet, seguridad en línea, respaldo en línea, protección de dispositivos, soporte técnico y transmisión de TV y películas.\n",
    "\n",
    "- Información de la cuenta del cliente: cuánto tiempo ha sido cliente, contrato, método de pago, facturación electrónica, cargos mensuales y cargos totales\n",
    "\n",
    "- Información demográfica sobre los clientes: género, rango de edad y si tienen parejas y dependiente\n",
    "\n",
    "Infomacion dataset en el siguiente enlace: [link](https://www.kaggle.com/datasets/blastchar/telco-customer-churn)"
   ]
  },
  {
   "cell_type": "code",
   "execution_count": 1,
   "id": "3c0f8bc0",
   "metadata": {},
   "outputs": [
    {
     "name": "stdout",
     "output_type": "stream",
     "text": [
      "\u001b[31mERROR: pip's dependency resolver does not currently take into account all the packages that are installed. This behaviour is the source of the following dependency conflicts.\n",
      "awscli 1.27.44 requires botocore==1.29.44, but you have botocore 1.29.74 which is incompatible.\n",
      "aiobotocore 2.0.1 requires botocore<1.22.9,>=1.22.8, but you have botocore 1.29.74 which is incompatible.\u001b[0m\u001b[31m\n",
      "\u001b[0m"
     ]
    }
   ],
   "source": [
    "!pip install -q awswrangler"
   ]
  },
  {
   "cell_type": "code",
   "execution_count": 2,
   "id": "2050fdf7",
   "metadata": {},
   "outputs": [],
   "source": [
    "import awswrangler as wr\n",
    "import pandas as pd\n",
    "import numpy as np\n",
    "import matplotlib.pyplot as plt\n",
    "import seaborn as sns\n",
    "%matplotlib inline\n",
    "plt.rcParams[\"figure.figsize\"] =8,4 # para ajustar el tamaño de imagen\n",
    "import warnings\n",
    "warnings.filterwarnings(\"ignore\") #para evitar errores de operaciones matematicas\n",
    "import random\n",
    "import statistics\n",
    "import math\n",
    "#from pandas_profiling import ProfileReport"
   ]
  },
  {
   "cell_type": "code",
   "execution_count": 3,
   "id": "92c283af",
   "metadata": {},
   "outputs": [],
   "source": [
    "dataset = wr.s3.read_csv(path='s3://data-tecnicas-muestreo/datasets/Telco_customer_churn.csv')"
   ]
  },
  {
   "cell_type": "code",
   "execution_count": 4,
   "id": "37b928e2",
   "metadata": {},
   "outputs": [
    {
     "data": {
      "text/html": [
       "<div>\n",
       "<style scoped>\n",
       "    .dataframe tbody tr th:only-of-type {\n",
       "        vertical-align: middle;\n",
       "    }\n",
       "\n",
       "    .dataframe tbody tr th {\n",
       "        vertical-align: top;\n",
       "    }\n",
       "\n",
       "    .dataframe thead th {\n",
       "        text-align: right;\n",
       "    }\n",
       "</style>\n",
       "<table border=\"1\" class=\"dataframe\">\n",
       "  <thead>\n",
       "    <tr style=\"text-align: right;\">\n",
       "      <th></th>\n",
       "      <th>customerID</th>\n",
       "      <th>gender</th>\n",
       "      <th>SeniorCitizen</th>\n",
       "      <th>Partner</th>\n",
       "      <th>Dependents</th>\n",
       "      <th>tenure</th>\n",
       "      <th>PhoneService</th>\n",
       "      <th>MultipleLines</th>\n",
       "      <th>InternetService</th>\n",
       "      <th>OnlineSecurity</th>\n",
       "      <th>...</th>\n",
       "      <th>Premium Tech Support</th>\n",
       "      <th>Unlimited Data</th>\n",
       "      <th>Total Refunds</th>\n",
       "      <th>Total Extra Data Charges</th>\n",
       "      <th>Total Long Distance Charges</th>\n",
       "      <th>Total Revenue</th>\n",
       "      <th>Satisfaction Score</th>\n",
       "      <th>Customer Status</th>\n",
       "      <th>Churn Score.1</th>\n",
       "      <th>Churn Category</th>\n",
       "    </tr>\n",
       "  </thead>\n",
       "  <tbody>\n",
       "    <tr>\n",
       "      <th>0</th>\n",
       "      <td>3668-QPYBK</td>\n",
       "      <td>Male</td>\n",
       "      <td>0</td>\n",
       "      <td>No</td>\n",
       "      <td>No</td>\n",
       "      <td>2</td>\n",
       "      <td>Yes</td>\n",
       "      <td>No</td>\n",
       "      <td>DSL</td>\n",
       "      <td>Yes</td>\n",
       "      <td>...</td>\n",
       "      <td>No</td>\n",
       "      <td>Yes</td>\n",
       "      <td>0.0</td>\n",
       "      <td>0</td>\n",
       "      <td>20.94</td>\n",
       "      <td>129.09</td>\n",
       "      <td>1</td>\n",
       "      <td>Churned</td>\n",
       "      <td>86</td>\n",
       "      <td>Competitor</td>\n",
       "    </tr>\n",
       "    <tr>\n",
       "      <th>1</th>\n",
       "      <td>9237-HQITU</td>\n",
       "      <td>Female</td>\n",
       "      <td>0</td>\n",
       "      <td>No</td>\n",
       "      <td>No</td>\n",
       "      <td>2</td>\n",
       "      <td>Yes</td>\n",
       "      <td>No</td>\n",
       "      <td>Fiber optic</td>\n",
       "      <td>No</td>\n",
       "      <td>...</td>\n",
       "      <td>No</td>\n",
       "      <td>Yes</td>\n",
       "      <td>0.0</td>\n",
       "      <td>0</td>\n",
       "      <td>18.24</td>\n",
       "      <td>169.89</td>\n",
       "      <td>2</td>\n",
       "      <td>Churned</td>\n",
       "      <td>67</td>\n",
       "      <td>Other</td>\n",
       "    </tr>\n",
       "    <tr>\n",
       "      <th>2</th>\n",
       "      <td>9305-CDSKC</td>\n",
       "      <td>Female</td>\n",
       "      <td>0</td>\n",
       "      <td>No</td>\n",
       "      <td>No</td>\n",
       "      <td>8</td>\n",
       "      <td>Yes</td>\n",
       "      <td>Yes</td>\n",
       "      <td>Fiber optic</td>\n",
       "      <td>No</td>\n",
       "      <td>...</td>\n",
       "      <td>No</td>\n",
       "      <td>Yes</td>\n",
       "      <td>0.0</td>\n",
       "      <td>0</td>\n",
       "      <td>97.20</td>\n",
       "      <td>917.70</td>\n",
       "      <td>3</td>\n",
       "      <td>Churned</td>\n",
       "      <td>86</td>\n",
       "      <td>Other</td>\n",
       "    </tr>\n",
       "    <tr>\n",
       "      <th>3</th>\n",
       "      <td>7892-POOKP</td>\n",
       "      <td>Female</td>\n",
       "      <td>0</td>\n",
       "      <td>Yes</td>\n",
       "      <td>No</td>\n",
       "      <td>28</td>\n",
       "      <td>Yes</td>\n",
       "      <td>Yes</td>\n",
       "      <td>Fiber optic</td>\n",
       "      <td>No</td>\n",
       "      <td>...</td>\n",
       "      <td>Yes</td>\n",
       "      <td>Yes</td>\n",
       "      <td>0.0</td>\n",
       "      <td>0</td>\n",
       "      <td>136.92</td>\n",
       "      <td>3182.97</td>\n",
       "      <td>3</td>\n",
       "      <td>Churned</td>\n",
       "      <td>84</td>\n",
       "      <td>Other</td>\n",
       "    </tr>\n",
       "    <tr>\n",
       "      <th>4</th>\n",
       "      <td>0280-XJGEX</td>\n",
       "      <td>Male</td>\n",
       "      <td>0</td>\n",
       "      <td>No</td>\n",
       "      <td>No</td>\n",
       "      <td>49</td>\n",
       "      <td>Yes</td>\n",
       "      <td>Yes</td>\n",
       "      <td>Fiber optic</td>\n",
       "      <td>No</td>\n",
       "      <td>...</td>\n",
       "      <td>No</td>\n",
       "      <td>Yes</td>\n",
       "      <td>0.0</td>\n",
       "      <td>0</td>\n",
       "      <td>2172.17</td>\n",
       "      <td>7208.47</td>\n",
       "      <td>1</td>\n",
       "      <td>Churned</td>\n",
       "      <td>89</td>\n",
       "      <td>Competitor</td>\n",
       "    </tr>\n",
       "  </tbody>\n",
       "</table>\n",
       "<p>5 rows × 52 columns</p>\n",
       "</div>"
      ],
      "text/plain": [
       "   customerID  gender  SeniorCitizen Partner Dependents  tenure PhoneService  \\\n",
       "0  3668-QPYBK    Male              0      No         No       2          Yes   \n",
       "1  9237-HQITU  Female              0      No         No       2          Yes   \n",
       "2  9305-CDSKC  Female              0      No         No       8          Yes   \n",
       "3  7892-POOKP  Female              0     Yes         No      28          Yes   \n",
       "4  0280-XJGEX    Male              0      No         No      49          Yes   \n",
       "\n",
       "  MultipleLines InternetService OnlineSecurity  ... Premium Tech Support  \\\n",
       "0            No             DSL            Yes  ...                   No   \n",
       "1            No     Fiber optic             No  ...                   No   \n",
       "2           Yes     Fiber optic             No  ...                   No   \n",
       "3           Yes     Fiber optic             No  ...                  Yes   \n",
       "4           Yes     Fiber optic             No  ...                   No   \n",
       "\n",
       "  Unlimited Data Total Refunds Total Extra Data Charges  \\\n",
       "0            Yes           0.0                        0   \n",
       "1            Yes           0.0                        0   \n",
       "2            Yes           0.0                        0   \n",
       "3            Yes           0.0                        0   \n",
       "4            Yes           0.0                        0   \n",
       "\n",
       "  Total Long Distance Charges Total Revenue Satisfaction Score  \\\n",
       "0                       20.94        129.09                  1   \n",
       "1                       18.24        169.89                  2   \n",
       "2                       97.20        917.70                  3   \n",
       "3                      136.92       3182.97                  3   \n",
       "4                     2172.17       7208.47                  1   \n",
       "\n",
       "  Customer Status  Churn Score.1 Churn Category  \n",
       "0         Churned             86     Competitor  \n",
       "1         Churned             67          Other  \n",
       "2         Churned             86          Other  \n",
       "3         Churned             84          Other  \n",
       "4         Churned             89     Competitor  \n",
       "\n",
       "[5 rows x 52 columns]"
      ]
     },
     "metadata": {},
     "output_type": "display_data"
    },
    {
     "data": {
      "text/plain": [
       "(7043, 52)"
      ]
     },
     "metadata": {},
     "output_type": "display_data"
    }
   ],
   "source": [
    "display(dataset.head())\n",
    "display(dataset.shape)"
   ]
  },
  {
   "cell_type": "code",
   "execution_count": 5,
   "id": "592bc502",
   "metadata": {},
   "outputs": [
    {
     "name": "stdout",
     "output_type": "stream",
     "text": [
      "<class 'pandas.core.frame.DataFrame'>\n",
      "RangeIndex: 7043 entries, 0 to 7042\n",
      "Data columns (total 52 columns):\n",
      " #   Column                             Non-Null Count  Dtype  \n",
      "---  ------                             --------------  -----  \n",
      " 0   customerID                         7043 non-null   object \n",
      " 1   gender                             7043 non-null   object \n",
      " 2   SeniorCitizen                      7043 non-null   int64  \n",
      " 3   Partner                            7043 non-null   object \n",
      " 4   Dependents                         7043 non-null   object \n",
      " 5   tenure                             7043 non-null   int64  \n",
      " 6   PhoneService                       7043 non-null   object \n",
      " 7   MultipleLines                      7043 non-null   object \n",
      " 8   InternetService                    7043 non-null   object \n",
      " 9   OnlineSecurity                     7043 non-null   object \n",
      " 10  OnlineBackup                       7043 non-null   object \n",
      " 11  DeviceProtection                   7043 non-null   object \n",
      " 12  TechSupport                        7043 non-null   object \n",
      " 13  StreamingTV                        7043 non-null   object \n",
      " 14  StreamingMovies                    7043 non-null   object \n",
      " 15  Contract                           7043 non-null   object \n",
      " 16  PaperlessBilling                   7043 non-null   object \n",
      " 17  PaymentMethod                      7043 non-null   object \n",
      " 18  MonthlyCharges                     7043 non-null   float64\n",
      " 19  TotalCharges                       7043 non-null   object \n",
      " 20  Churn                              7043 non-null   object \n",
      " 21  churn_rate                         7043 non-null   int64  \n",
      " 22  Churn Score                        7043 non-null   int64  \n",
      " 23  CLTV                               7043 non-null   int64  \n",
      " 24  Churn Reason                       1869 non-null   object \n",
      " 25  Count                              7043 non-null   int64  \n",
      " 26  Country                            7043 non-null   object \n",
      " 27  State                              7043 non-null   object \n",
      " 28  City                               7043 non-null   object \n",
      " 29  Zip Code                           7043 non-null   int64  \n",
      " 30  Lat Long                           7043 non-null   object \n",
      " 31  Latitude                           7043 non-null   float64\n",
      " 32  Longitude                          7043 non-null   float64\n",
      " 33  Age                                7043 non-null   int64  \n",
      " 34  Under 30                           7043 non-null   object \n",
      " 35  Married                            7043 non-null   object \n",
      " 36  Referred a Friend                  7043 non-null   object \n",
      " 37  Number of Referrals                7043 non-null   int64  \n",
      " 38  Offer                              7043 non-null   object \n",
      " 39  Avg Monthly Long Distance Charges  7043 non-null   float64\n",
      " 40  Avg Monthly GB Download            7043 non-null   int64  \n",
      " 41  Streaming Music                    7043 non-null   object \n",
      " 42  Premium Tech Support               7043 non-null   object \n",
      " 43  Unlimited Data                     7043 non-null   object \n",
      " 44  Total Refunds                      7043 non-null   float64\n",
      " 45  Total Extra Data Charges           7043 non-null   int64  \n",
      " 46  Total Long Distance Charges        7043 non-null   float64\n",
      " 47  Total Revenue                      7043 non-null   float64\n",
      " 48  Satisfaction Score                 7043 non-null   int64  \n",
      " 49  Customer Status                    7043 non-null   object \n",
      " 50  Churn Score.1                      7043 non-null   int64  \n",
      " 51  Churn Category                     7043 non-null   object \n",
      "dtypes: float64(7), int64(13), object(32)\n",
      "memory usage: 2.8+ MB\n"
     ]
    }
   ],
   "source": [
    "dataset.info()"
   ]
  },
  {
   "cell_type": "markdown",
   "id": "475cc40d-e680-407c-95a8-29a32a168515",
   "metadata": {},
   "source": [
    "### Ubicamos la variable de interes para la estimacion puntual (media aritmetica)"
   ]
  },
  {
   "cell_type": "code",
   "execution_count": 6,
   "id": "f7829f73",
   "metadata": {},
   "outputs": [
    {
     "data": {
      "text/plain": [
       "count    7043.000000\n",
       "mean       32.371149\n",
       "std        24.559481\n",
       "min         0.000000\n",
       "25%         9.000000\n",
       "50%        29.000000\n",
       "75%        55.000000\n",
       "max        72.000000\n",
       "Name: tenure, dtype: float64"
      ]
     },
     "execution_count": 6,
     "metadata": {},
     "output_type": "execute_result"
    }
   ],
   "source": [
    "dataset[\"tenure\"].describe()"
   ]
  },
  {
   "cell_type": "markdown",
   "id": "80928fcb",
   "metadata": {},
   "source": [
    "### Ubicamos la variable de interes para la estimacion proporcional (variable dicotomica)"
   ]
  },
  {
   "cell_type": "code",
   "execution_count": 7,
   "id": "f303860e",
   "metadata": {},
   "outputs": [
    {
     "data": {
      "text/plain": [
       "0    5174\n",
       "1    1869\n",
       "Name: churn_rate, dtype: int64"
      ]
     },
     "execution_count": 7,
     "metadata": {},
     "output_type": "execute_result"
    }
   ],
   "source": [
    "dataset['churn_rate'].value_counts()"
   ]
  },
  {
   "cell_type": "markdown",
   "id": "f7bb81a5-f2eb-4ace-96fc-42bd1776fce5",
   "metadata": {},
   "source": [
    "### Estimacion puntual "
   ]
  },
  {
   "cell_type": "markdown",
   "id": "f91bfd20-48b2-4900-a822-17eb812fc46e",
   "metadata": {},
   "source": [
    "#### Tenure: Número de meses que el cliente ha permanecido en la empresa"
   ]
  },
  {
   "cell_type": "code",
   "execution_count": 8,
   "id": "08ed9da2-22bc-49a9-a74a-b3989a3047d3",
   "metadata": {},
   "outputs": [],
   "source": [
    "target = dataset['tenure']"
   ]
  },
  {
   "cell_type": "code",
   "execution_count": 9,
   "id": "ce61ffa7",
   "metadata": {},
   "outputs": [],
   "source": [
    "\n",
    "def mas_puntual(target, LEE):\n",
    "    \n",
    "     random.seed(123) # fijar semilla valores aleatorios\n",
    "    \n",
    "     mean_poblacional = target.mean()   # promedio poblacional (variable de interes)\n",
    "     N = len(target) \n",
    "     D =  pow(LEE, 2)/4    # limite margenes error estimacion poblacional\n",
    "     var = statistics.variance(target)   # Varianza Poblacional\n",
    "     n =  math.floor((N*var)/((N-1)*D + var)) # seleccion de muestra aleatoria\n",
    "    \n",
    "    \n",
    "     index_sample = random.sample (list(target.index), n)  # muestreo aleatorio simple\n",
    "     target_sample = target[index_sample]  # seleccion muestra por index\n",
    "    \n",
    "     mean_est = target_sample.mean()  # promedio muestral estimado (variable de interes)\n",
    "    \n",
    "     var_mean_est = (np.var(target_sample)/n)*(1-(n/N))  # varianza muestral estimada (variable de interes)\n",
    "     error_est =  2*math.sqrt(var_mean_est)  # error de estimacion muestra estimada (variable de interes)\n",
    "\n",
    "     LI =  mean_est - error_est  # limite superior estimacion muestral\n",
    "     LS =  mean_est + error_est  # limite inferior estimacion muestral\n",
    "    \n",
    "     data_filtrada = dataset.iloc[target_sample.index, :]  # dataset muestral\n",
    "    \n",
    "     print(\"El intervalo de confianza de la proporcion esta entre\", \"[\",LI, LS,\"]\")\n",
    "     print(\"tamaño total poblacional:\" , len(dataset) )\n",
    "     print(\"tamaño de muestra estimada:\" , len(data_filtrada) )\n",
    "     print(\"promedio poblacional estimado:\" , mean_poblacional )\n",
    "     print(\"promedio muestral estimado:\" , mean_est )\n",
    "     print(\"error de estimacion:\" , error_est )\n",
    "    \n",
    "     return(data_filtrada)"
   ]
  },
  {
   "cell_type": "code",
   "execution_count": 10,
   "id": "08c7a1d1-fe3e-46a1-98c7-8ec68b3d2d6d",
   "metadata": {},
   "outputs": [
    {
     "name": "stdout",
     "output_type": "stream",
     "text": [
      "El intervalo de confianza de la proporcion esta entre [ 31.252716880185897 33.4486988212298 ]\n",
      "tamaño total poblacional: 7043\n",
      "tamaño de muestra estimada: 1554\n",
      "promedio poblacional estimado: 32.37114865824223\n",
      "promedio muestral estimado: 32.35070785070785\n",
      "error de estimacion: 1.097990970521951\n"
     ]
    }
   ],
   "source": [
    "df_mas_puntual = mas_puntual(target, 1.1)"
   ]
  },
  {
   "cell_type": "code",
   "execution_count": 11,
   "id": "d10eaf2a-4d65-45e8-8252-babd0ace6382",
   "metadata": {},
   "outputs": [
    {
     "data": {
      "text/html": [
       "<div>\n",
       "<style scoped>\n",
       "    .dataframe tbody tr th:only-of-type {\n",
       "        vertical-align: middle;\n",
       "    }\n",
       "\n",
       "    .dataframe tbody tr th {\n",
       "        vertical-align: top;\n",
       "    }\n",
       "\n",
       "    .dataframe thead th {\n",
       "        text-align: right;\n",
       "    }\n",
       "</style>\n",
       "<table border=\"1\" class=\"dataframe\">\n",
       "  <thead>\n",
       "    <tr style=\"text-align: right;\">\n",
       "      <th></th>\n",
       "      <th>customerID</th>\n",
       "      <th>gender</th>\n",
       "      <th>SeniorCitizen</th>\n",
       "      <th>Partner</th>\n",
       "      <th>Dependents</th>\n",
       "      <th>tenure</th>\n",
       "      <th>PhoneService</th>\n",
       "      <th>MultipleLines</th>\n",
       "      <th>InternetService</th>\n",
       "      <th>OnlineSecurity</th>\n",
       "      <th>...</th>\n",
       "      <th>Premium Tech Support</th>\n",
       "      <th>Unlimited Data</th>\n",
       "      <th>Total Refunds</th>\n",
       "      <th>Total Extra Data Charges</th>\n",
       "      <th>Total Long Distance Charges</th>\n",
       "      <th>Total Revenue</th>\n",
       "      <th>Satisfaction Score</th>\n",
       "      <th>Customer Status</th>\n",
       "      <th>Churn Score.1</th>\n",
       "      <th>Churn Category</th>\n",
       "    </tr>\n",
       "  </thead>\n",
       "  <tbody>\n",
       "    <tr>\n",
       "      <th>428</th>\n",
       "      <td>4248-QPAVC</td>\n",
       "      <td>Female</td>\n",
       "      <td>1</td>\n",
       "      <td>Yes</td>\n",
       "      <td>No</td>\n",
       "      <td>17</td>\n",
       "      <td>Yes</td>\n",
       "      <td>Yes</td>\n",
       "      <td>Fiber optic</td>\n",
       "      <td>Yes</td>\n",
       "      <td>...</td>\n",
       "      <td>No</td>\n",
       "      <td>Yes</td>\n",
       "      <td>0.0</td>\n",
       "      <td>0</td>\n",
       "      <td>625.94</td>\n",
       "      <td>2089.39</td>\n",
       "      <td>1</td>\n",
       "      <td>Churned</td>\n",
       "      <td>90</td>\n",
       "      <td>Competitor</td>\n",
       "    </tr>\n",
       "    <tr>\n",
       "      <th>2192</th>\n",
       "      <td>2181-UAESM</td>\n",
       "      <td>Male</td>\n",
       "      <td>0</td>\n",
       "      <td>No</td>\n",
       "      <td>No</td>\n",
       "      <td>2</td>\n",
       "      <td>Yes</td>\n",
       "      <td>No</td>\n",
       "      <td>DSL</td>\n",
       "      <td>Yes</td>\n",
       "      <td>...</td>\n",
       "      <td>No</td>\n",
       "      <td>Yes</td>\n",
       "      <td>0.0</td>\n",
       "      <td>0</td>\n",
       "      <td>25.18</td>\n",
       "      <td>144.68</td>\n",
       "      <td>4</td>\n",
       "      <td>Joined</td>\n",
       "      <td>25</td>\n",
       "      <td>0</td>\n",
       "    </tr>\n",
       "    <tr>\n",
       "      <th>714</th>\n",
       "      <td>0415-MOSGF</td>\n",
       "      <td>Female</td>\n",
       "      <td>0</td>\n",
       "      <td>No</td>\n",
       "      <td>No</td>\n",
       "      <td>1</td>\n",
       "      <td>Yes</td>\n",
       "      <td>No</td>\n",
       "      <td>DSL</td>\n",
       "      <td>No</td>\n",
       "      <td>...</td>\n",
       "      <td>No</td>\n",
       "      <td>Yes</td>\n",
       "      <td>0.0</td>\n",
       "      <td>0</td>\n",
       "      <td>26.53</td>\n",
       "      <td>70.93</td>\n",
       "      <td>2</td>\n",
       "      <td>Churned</td>\n",
       "      <td>76</td>\n",
       "      <td>Attitude</td>\n",
       "    </tr>\n",
       "    <tr>\n",
       "      <th>6299</th>\n",
       "      <td>0020-JDNXP</td>\n",
       "      <td>Female</td>\n",
       "      <td>0</td>\n",
       "      <td>Yes</td>\n",
       "      <td>Yes</td>\n",
       "      <td>34</td>\n",
       "      <td>No</td>\n",
       "      <td>No phone service</td>\n",
       "      <td>DSL</td>\n",
       "      <td>Yes</td>\n",
       "      <td>...</td>\n",
       "      <td>Yes</td>\n",
       "      <td>Yes</td>\n",
       "      <td>0.0</td>\n",
       "      <td>0</td>\n",
       "      <td>0.00</td>\n",
       "      <td>1993.20</td>\n",
       "      <td>4</td>\n",
       "      <td>Stayed</td>\n",
       "      <td>37</td>\n",
       "      <td>0</td>\n",
       "    </tr>\n",
       "    <tr>\n",
       "      <th>3336</th>\n",
       "      <td>7710-JSYOA</td>\n",
       "      <td>Female</td>\n",
       "      <td>0</td>\n",
       "      <td>Yes</td>\n",
       "      <td>Yes</td>\n",
       "      <td>69</td>\n",
       "      <td>Yes</td>\n",
       "      <td>Yes</td>\n",
       "      <td>Fiber optic</td>\n",
       "      <td>No</td>\n",
       "      <td>...</td>\n",
       "      <td>Yes</td>\n",
       "      <td>Yes</td>\n",
       "      <td>0.0</td>\n",
       "      <td>0</td>\n",
       "      <td>1968.57</td>\n",
       "      <td>8366.62</td>\n",
       "      <td>5</td>\n",
       "      <td>Stayed</td>\n",
       "      <td>45</td>\n",
       "      <td>0</td>\n",
       "    </tr>\n",
       "  </tbody>\n",
       "</table>\n",
       "<p>5 rows × 52 columns</p>\n",
       "</div>"
      ],
      "text/plain": [
       "      customerID  gender  SeniorCitizen Partner Dependents  tenure  \\\n",
       "428   4248-QPAVC  Female              1     Yes         No      17   \n",
       "2192  2181-UAESM    Male              0      No         No       2   \n",
       "714   0415-MOSGF  Female              0      No         No       1   \n",
       "6299  0020-JDNXP  Female              0     Yes        Yes      34   \n",
       "3336  7710-JSYOA  Female              0     Yes        Yes      69   \n",
       "\n",
       "     PhoneService     MultipleLines InternetService OnlineSecurity  ...  \\\n",
       "428           Yes               Yes     Fiber optic            Yes  ...   \n",
       "2192          Yes                No             DSL            Yes  ...   \n",
       "714           Yes                No             DSL             No  ...   \n",
       "6299           No  No phone service             DSL            Yes  ...   \n",
       "3336          Yes               Yes     Fiber optic             No  ...   \n",
       "\n",
       "     Premium Tech Support Unlimited Data Total Refunds  \\\n",
       "428                    No            Yes           0.0   \n",
       "2192                   No            Yes           0.0   \n",
       "714                    No            Yes           0.0   \n",
       "6299                  Yes            Yes           0.0   \n",
       "3336                  Yes            Yes           0.0   \n",
       "\n",
       "     Total Extra Data Charges Total Long Distance Charges Total Revenue  \\\n",
       "428                         0                      625.94       2089.39   \n",
       "2192                        0                       25.18        144.68   \n",
       "714                         0                       26.53         70.93   \n",
       "6299                        0                        0.00       1993.20   \n",
       "3336                        0                     1968.57       8366.62   \n",
       "\n",
       "     Satisfaction Score Customer Status  Churn Score.1 Churn Category  \n",
       "428                   1         Churned             90     Competitor  \n",
       "2192                  4          Joined             25              0  \n",
       "714                   2         Churned             76       Attitude  \n",
       "6299                  4          Stayed             37              0  \n",
       "3336                  5          Stayed             45              0  \n",
       "\n",
       "[5 rows x 52 columns]"
      ]
     },
     "execution_count": 11,
     "metadata": {},
     "output_type": "execute_result"
    }
   ],
   "source": [
    "df_mas_puntual.head()"
   ]
  },
  {
   "cell_type": "markdown",
   "id": "8ffe5f23-08c0-43b9-8a5e-5990a1293fb6",
   "metadata": {},
   "source": [
    "### Interpretacion:"
   ]
  },
  {
   "cell_type": "markdown",
   "id": "019e78e1-1b74-4120-982f-ce6f73d525ab",
   "metadata": {},
   "source": [
    "\n",
    "\n",
    "En resumen, la muestra nos indica que la cantidad de tiempo promedio que los clientes han permanecido en la empresa es de 32 (32.35) meses, osea alrededore de 2 años y ocho meses. Haciendo un comparativo la estimacion muestral se asemeja mucho a la metrica poblacional que fue de 32.37 meses.\n",
    "\n",
    "Es necesario aproximadamente 1554 observaciones (clientes distintos) para estimar la cantidad promedio de meses que el cliente ha permanecido en la empresa, teniedo en cuenta un error de 1.09.\n",
    "\n",
    "Entre mas pequeño sea el LEE (limite de error de estimacion), el tamaño de muestra aumentara.\n",
    "\n",
    "Ademas, la estimacion promedio muestral se encuentra dentro de intervalo de confianza estimado,entonces podemos asegurar que 95 de cada 100 observaciones (clientes) contiene la cantidad promedio verdadera de meses que el cliente ha permanecido en la empresa (poblacional) \n"
   ]
  },
  {
   "cell_type": "markdown",
   "id": "20624982-b8f6-49bd-a30d-ee3e7cb028f6",
   "metadata": {},
   "source": [
    "### Guardamos el dataset muestra en la ruta S3"
   ]
  },
  {
   "cell_type": "code",
   "execution_count": 12,
   "id": "026323b4-1d98-42d0-836a-d272e02e77b4",
   "metadata": {},
   "outputs": [
    {
     "data": {
      "text/plain": [
       "{'paths': ['s3://data-tecnicas-muestreo/datasets/Telco_customer_churn_mas_puntual.csv'],\n",
       " 'partitions_values': {}}"
      ]
     },
     "execution_count": 12,
     "metadata": {},
     "output_type": "execute_result"
    }
   ],
   "source": [
    "wr.s3.to_csv(df = df_mas_puntual, path = 's3://data-tecnicas-muestreo/datasets/Telco_customer_churn_mas_puntual.csv', index=False)"
   ]
  },
  {
   "cell_type": "markdown",
   "id": "5348c395-73ec-497c-8aa7-277695a8915f",
   "metadata": {},
   "source": [
    "### Estimacion proporcional"
   ]
  },
  {
   "cell_type": "markdown",
   "id": "a1679427-554f-487f-9108-5da912adf01e",
   "metadata": {},
   "source": [
    "#### Si el cliente abandona o no (Sí = 1 o No = 0)"
   ]
  },
  {
   "cell_type": "code",
   "execution_count": 36,
   "id": "4065390e-804e-49d2-935b-f95dfb6ad70a",
   "metadata": {},
   "outputs": [],
   "source": [
    "target = dataset['churn_rate']"
   ]
  },
  {
   "cell_type": "code",
   "execution_count": 37,
   "id": "93258ab6-6c19-43b6-a825-43f709faa27b",
   "metadata": {},
   "outputs": [],
   "source": [
    "\n",
    "def mas_proporcional(target, LEE):\n",
    "    \n",
    "     random.seed(123) # fijar semilla valores aleatorios\n",
    "        \n",
    "     p = target.mean()   # proporcion casos positivos (valores 1) poblacional\n",
    "     q= 1 - p    # complemento proporcion CP poblacional\n",
    "     N = len(target)   # tamaño poblacional\n",
    "     D =  pow(LEE, 2)/4    # limite margenes error estimacion poblacional\n",
    "     n =  math.floor((N*p*q)/((N-1)*D + p*q))  # tamaño muestral estimado\n",
    "     \n",
    "     index_sample = random.sample (list(target.index), n)  # muestreo aleatorio simple\n",
    "     target_sample = target[index_sample]  # seleccion muestra por index\n",
    "    \n",
    "     p_est = target_sample.mean()  # proporcion casos positivos estimados muestra\n",
    "     q_est =  1 - p_est   # complemento proporcion casos positivos estimados muestra\n",
    "     var_p_est = ((p_est*q_est)/(n-1))/(1 - n/N) # varianza proporcion CP estimada muestra\n",
    "     error_est =  2*math.sqrt(var_p_est)  # error de estimacion proporcion CP\n",
    "\n",
    "     LI =  p_est - error_est  # limite superior estimado estimacion poblacional\n",
    "     LS =  p_est + error_est  # limite inferior estimado estimacion poblacional\n",
    "     \n",
    "     data_filtrada = dataset.iloc[target_sample.index, :]    \n",
    "        \n",
    "     print(\"El intervalo de confianza de la proporcion esta entre\", \"[\",LI, LS,\"]\")\n",
    "     print(\"tamaño total poblacional:\" , len(dataset) )\n",
    "     print(\"tamaño de muestra estimada:\" , len(data_filtrada) )\n",
    "     print(\"proporcion casos positivos poblacional:\" , p )\n",
    "     print(\"proporcion casos positivos estimados:\" , p_est )\n",
    "     print(\"error de estimacion:\" , error_est )\n",
    "    \n",
    "     return(data_filtrada)\n"
   ]
  },
  {
   "cell_type": "code",
   "execution_count": 38,
   "id": "988fc3f4-d6d5-4015-95f1-cb77e8baffa3",
   "metadata": {},
   "outputs": [
    {
     "name": "stdout",
     "output_type": "stream",
     "text": [
      "El intervalo de confianza de la proporcion esta entre [ 0.23968690619888802 0.2907649602058271 ]\n",
      "tamaño total poblacional: 7043\n",
      "tamaño de muestra estimada: 1527\n",
      "proporcion casos positivos poblacional: 0.2653698707936959\n",
      "proporcion casos positivos estimados: 0.26522593320235754\n",
      "error de estimacion: 0.02553902700346953\n"
     ]
    }
   ],
   "source": [
    "df_mas_proporcional = mas_proporcional(target, 0.020)"
   ]
  },
  {
   "cell_type": "code",
   "execution_count": 39,
   "id": "d6fd3d8d-4008-439d-adc2-4749e7c5de8b",
   "metadata": {},
   "outputs": [
    {
     "data": {
      "text/plain": [
       "0    1122\n",
       "1     405\n",
       "Name: churn_rate, dtype: int64"
      ]
     },
     "execution_count": 39,
     "metadata": {},
     "output_type": "execute_result"
    }
   ],
   "source": [
    "df_mas_proporcional.churn_rate.value_counts()"
   ]
  },
  {
   "cell_type": "code",
   "execution_count": 40,
   "id": "7fd1542a-dfe4-4a61-8d3e-17740470e325",
   "metadata": {},
   "outputs": [
    {
     "data": {
      "text/plain": [
       "0    5174\n",
       "1    1869\n",
       "Name: churn_rate, dtype: int64"
      ]
     },
     "execution_count": 40,
     "metadata": {},
     "output_type": "execute_result"
    }
   ],
   "source": [
    "dataset.churn_rate.value_counts()"
   ]
  },
  {
   "cell_type": "code",
   "execution_count": 28,
   "id": "b218849f-e5ab-4478-86be-b11c12707696",
   "metadata": {},
   "outputs": [
    {
     "data": {
      "text/html": [
       "<div>\n",
       "<style scoped>\n",
       "    .dataframe tbody tr th:only-of-type {\n",
       "        vertical-align: middle;\n",
       "    }\n",
       "\n",
       "    .dataframe tbody tr th {\n",
       "        vertical-align: top;\n",
       "    }\n",
       "\n",
       "    .dataframe thead th {\n",
       "        text-align: right;\n",
       "    }\n",
       "</style>\n",
       "<table border=\"1\" class=\"dataframe\">\n",
       "  <thead>\n",
       "    <tr style=\"text-align: right;\">\n",
       "      <th></th>\n",
       "      <th>customerID</th>\n",
       "      <th>gender</th>\n",
       "      <th>SeniorCitizen</th>\n",
       "      <th>Partner</th>\n",
       "      <th>Dependents</th>\n",
       "      <th>tenure</th>\n",
       "      <th>PhoneService</th>\n",
       "      <th>MultipleLines</th>\n",
       "      <th>InternetService</th>\n",
       "      <th>OnlineSecurity</th>\n",
       "      <th>...</th>\n",
       "      <th>Premium Tech Support</th>\n",
       "      <th>Unlimited Data</th>\n",
       "      <th>Total Refunds</th>\n",
       "      <th>Total Extra Data Charges</th>\n",
       "      <th>Total Long Distance Charges</th>\n",
       "      <th>Total Revenue</th>\n",
       "      <th>Satisfaction Score</th>\n",
       "      <th>Customer Status</th>\n",
       "      <th>Churn Score.1</th>\n",
       "      <th>Churn Category</th>\n",
       "    </tr>\n",
       "  </thead>\n",
       "  <tbody>\n",
       "    <tr>\n",
       "      <th>263</th>\n",
       "      <td>4822-RVYBB</td>\n",
       "      <td>Male</td>\n",
       "      <td>1</td>\n",
       "      <td>No</td>\n",
       "      <td>No</td>\n",
       "      <td>8</td>\n",
       "      <td>Yes</td>\n",
       "      <td>Yes</td>\n",
       "      <td>Fiber optic</td>\n",
       "      <td>No</td>\n",
       "      <td>...</td>\n",
       "      <td>No</td>\n",
       "      <td>Yes</td>\n",
       "      <td>0.0</td>\n",
       "      <td>0</td>\n",
       "      <td>323.60</td>\n",
       "      <td>1143.00</td>\n",
       "      <td>1</td>\n",
       "      <td>Churned</td>\n",
       "      <td>90</td>\n",
       "      <td>Attitude</td>\n",
       "    </tr>\n",
       "    <tr>\n",
       "      <th>3916</th>\n",
       "      <td>6366-XIVKZ</td>\n",
       "      <td>Female</td>\n",
       "      <td>0</td>\n",
       "      <td>Yes</td>\n",
       "      <td>Yes</td>\n",
       "      <td>13</td>\n",
       "      <td>Yes</td>\n",
       "      <td>No</td>\n",
       "      <td>DSL</td>\n",
       "      <td>Yes</td>\n",
       "      <td>...</td>\n",
       "      <td>No</td>\n",
       "      <td>Yes</td>\n",
       "      <td>0.0</td>\n",
       "      <td>0</td>\n",
       "      <td>509.60</td>\n",
       "      <td>1326.40</td>\n",
       "      <td>3</td>\n",
       "      <td>Stayed</td>\n",
       "      <td>46</td>\n",
       "      <td>0</td>\n",
       "    </tr>\n",
       "    <tr>\n",
       "      <th>3615</th>\n",
       "      <td>4559-UWIHT</td>\n",
       "      <td>Male</td>\n",
       "      <td>0</td>\n",
       "      <td>Yes</td>\n",
       "      <td>No</td>\n",
       "      <td>14</td>\n",
       "      <td>Yes</td>\n",
       "      <td>Yes</td>\n",
       "      <td>Fiber optic</td>\n",
       "      <td>No</td>\n",
       "      <td>...</td>\n",
       "      <td>No</td>\n",
       "      <td>Yes</td>\n",
       "      <td>0.0</td>\n",
       "      <td>0</td>\n",
       "      <td>637.98</td>\n",
       "      <td>1822.98</td>\n",
       "      <td>5</td>\n",
       "      <td>Stayed</td>\n",
       "      <td>79</td>\n",
       "      <td>0</td>\n",
       "    </tr>\n",
       "    <tr>\n",
       "      <th>4600</th>\n",
       "      <td>4227-OJHAL</td>\n",
       "      <td>Female</td>\n",
       "      <td>0</td>\n",
       "      <td>Yes</td>\n",
       "      <td>Yes</td>\n",
       "      <td>68</td>\n",
       "      <td>Yes</td>\n",
       "      <td>Yes</td>\n",
       "      <td>DSL</td>\n",
       "      <td>Yes</td>\n",
       "      <td>...</td>\n",
       "      <td>No</td>\n",
       "      <td>Yes</td>\n",
       "      <td>0.0</td>\n",
       "      <td>0</td>\n",
       "      <td>1370.20</td>\n",
       "      <td>6533.20</td>\n",
       "      <td>4</td>\n",
       "      <td>Stayed</td>\n",
       "      <td>67</td>\n",
       "      <td>0</td>\n",
       "    </tr>\n",
       "    <tr>\n",
       "      <th>3909</th>\n",
       "      <td>8929-KSWIH</td>\n",
       "      <td>Male</td>\n",
       "      <td>0</td>\n",
       "      <td>No</td>\n",
       "      <td>No</td>\n",
       "      <td>25</td>\n",
       "      <td>Yes</td>\n",
       "      <td>No</td>\n",
       "      <td>Fiber optic</td>\n",
       "      <td>No</td>\n",
       "      <td>...</td>\n",
       "      <td>Yes</td>\n",
       "      <td>Yes</td>\n",
       "      <td>0.0</td>\n",
       "      <td>0</td>\n",
       "      <td>123.50</td>\n",
       "      <td>2637.00</td>\n",
       "      <td>4</td>\n",
       "      <td>Stayed</td>\n",
       "      <td>23</td>\n",
       "      <td>0</td>\n",
       "    </tr>\n",
       "  </tbody>\n",
       "</table>\n",
       "<p>5 rows × 52 columns</p>\n",
       "</div>"
      ],
      "text/plain": [
       "      customerID  gender  SeniorCitizen Partner Dependents  tenure  \\\n",
       "263   4822-RVYBB    Male              1      No         No       8   \n",
       "3916  6366-XIVKZ  Female              0     Yes        Yes      13   \n",
       "3615  4559-UWIHT    Male              0     Yes         No      14   \n",
       "4600  4227-OJHAL  Female              0     Yes        Yes      68   \n",
       "3909  8929-KSWIH    Male              0      No         No      25   \n",
       "\n",
       "     PhoneService MultipleLines InternetService OnlineSecurity  ...  \\\n",
       "263           Yes           Yes     Fiber optic             No  ...   \n",
       "3916          Yes            No             DSL            Yes  ...   \n",
       "3615          Yes           Yes     Fiber optic             No  ...   \n",
       "4600          Yes           Yes             DSL            Yes  ...   \n",
       "3909          Yes            No     Fiber optic             No  ...   \n",
       "\n",
       "     Premium Tech Support Unlimited Data Total Refunds  \\\n",
       "263                    No            Yes           0.0   \n",
       "3916                   No            Yes           0.0   \n",
       "3615                   No            Yes           0.0   \n",
       "4600                   No            Yes           0.0   \n",
       "3909                  Yes            Yes           0.0   \n",
       "\n",
       "     Total Extra Data Charges Total Long Distance Charges Total Revenue  \\\n",
       "263                         0                      323.60       1143.00   \n",
       "3916                        0                      509.60       1326.40   \n",
       "3615                        0                      637.98       1822.98   \n",
       "4600                        0                     1370.20       6533.20   \n",
       "3909                        0                      123.50       2637.00   \n",
       "\n",
       "     Satisfaction Score Customer Status  Churn Score.1 Churn Category  \n",
       "263                   1         Churned             90       Attitude  \n",
       "3916                  3          Stayed             46              0  \n",
       "3615                  5          Stayed             79              0  \n",
       "4600                  4          Stayed             67              0  \n",
       "3909                  4          Stayed             23              0  \n",
       "\n",
       "[5 rows x 52 columns]"
      ]
     },
     "metadata": {},
     "output_type": "display_data"
    },
    {
     "name": "stdout",
     "output_type": "stream",
     "text": [
      "(1527, 52)\n"
     ]
    }
   ],
   "source": [
    "display(df_mas_proporcional.head())\n",
    "print(df_mas_proporcional.shape)"
   ]
  },
  {
   "cell_type": "markdown",
   "id": "2e72f5ea-131d-46b5-b371-5c5ae46d2232",
   "metadata": {},
   "source": [
    "### Interpretacion:"
   ]
  },
  {
   "cell_type": "markdown",
   "id": "d79d3f48-0147-4129-aa1a-05466d73f3a6",
   "metadata": {},
   "source": [
    "\n",
    "\n",
    "La muestra proporcional nos indica que 26.39% de observaciones (clientes) decidio abandonar la empresa de telecomunicaciones, esta\n",
    "propocional se asemeja mucho probabilidad real de abandono poblacional de 26.53%.\n",
    "\n",
    "Es necesario aproximadamente 1527 observaciones (clientes distintos) para estimar la proporcional de clientes que abandonaron la empresa en el ultimo año, teniedo en cuenta un error de 0.025.\n",
    "\n",
    "Entre mas pequeño sea el LEE (limite de error de estimacion), el tamaño de muestra aumentara.\n",
    "\n",
    "Ademas, la estimacion proporcional muestral de clientes que abandonaron la empresa se encuentra dentro de intervalo de confianza estimado, entonces podemos asegurar que 95 de cada 100 observaciones de clientes que abandonaron la empresa en la muestra son verdaderamente clientes que abandonaron la empresa en la poblacion. \n"
   ]
  },
  {
   "cell_type": "code",
   "execution_count": 17,
   "id": "091603be-0759-43a9-9dcb-1e518c251264",
   "metadata": {},
   "outputs": [
    {
     "data": {
      "text/plain": [
       "{'paths': ['s3://data-tecnicas-muestreo/datasets/Telco_customer_churn_mas_proporcional.csv'],\n",
       " 'partitions_values': {}}"
      ]
     },
     "execution_count": 17,
     "metadata": {},
     "output_type": "execute_result"
    }
   ],
   "source": [
    "wr.s3.to_csv(df = df_mas_proporcional, path = 's3://data-tecnicas-muestreo/datasets/Telco_customer_churn_mas_proporcional.csv', index=False)"
   ]
  },
  {
   "cell_type": "markdown",
   "id": "4df14e17-a528-4ec3-8635-e3d862728694",
   "metadata": {},
   "source": [
    "# Demo utilizando training job"
   ]
  },
  {
   "cell_type": "markdown",
   "id": "7793b7b3-a800-4282-ab53-e71f5bb9a857",
   "metadata": {},
   "source": [
    "### Para la estimacion proporcional"
   ]
  },
  {
   "cell_type": "markdown",
   "id": "d71cc69f-b90d-43f1-bc69-f645b6e5c36d",
   "metadata": {},
   "source": [
    "### -`Ejecutamos 02muestreo_aleatorio_simple_pipeline`  \n",
    "\n"
   ]
  },
  {
   "cell_type": "code",
   "execution_count": null,
   "id": "00b3c36e-de36-442b-b193-1a7ef26aa53a",
   "metadata": {},
   "outputs": [],
   "source": []
  }
 ],
 "metadata": {
  "kernelspec": {
   "display_name": "conda_python3",
   "language": "python",
   "name": "conda_python3"
  },
  "language_info": {
   "codemirror_mode": {
    "name": "ipython",
    "version": 3
   },
   "file_extension": ".py",
   "mimetype": "text/x-python",
   "name": "python",
   "nbconvert_exporter": "python",
   "pygments_lexer": "ipython3",
   "version": "3.10.8"
  }
 },
 "nbformat": 4,
 "nbformat_minor": 5
}
