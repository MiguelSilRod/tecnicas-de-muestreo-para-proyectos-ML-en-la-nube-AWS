{
 "cells": [
  {
   "cell_type": "markdown",
   "id": "cc377e0e-5a2d-469d-bd10-ca7c78238c15",
   "metadata": {},
   "source": [
    "## Demo \n",
    "**Dataset** : Multiple target variable classification- Hackathon\n",
    "    \n",
    "    -Context\n",
    "    This data is taken from a Machine Learning Hackathon, in which i participated recently\n",
    "\n",
    "    -Content\n",
    "    The dataset consist of Physical attributes of any pet such as condition, colour, length, height, issue_date, listing_date, X1 & X2 etc.\n",
    "\n",
    "    -Inspiration\n",
    "    I have participated in this competition, but couldnt get a accuracy score of more than 90.82. So, i am keeping it in this open forum to participate & helps us identify the best approach / method to be used for this problem\n",
    "\n",
    "\n",
    "Infomacion dataset en el siguiente enlace: [link](https://www.kaggle.com/datasets/ppsheth91/two-target-variables-classification-problem?select=train.csv)\n",
    "    \n",
    "    "
   ]
  },
  {
   "cell_type": "code",
   "execution_count": 1,
   "id": "ce90d20a-0c41-4cef-a772-e40d59348d11",
   "metadata": {
    "tags": []
   },
   "outputs": [],
   "source": [
    "!pip install -q awswrangler"
   ]
  },
  {
   "cell_type": "code",
   "execution_count": 12,
   "id": "8a5c12dc-8d22-4e34-a574-d9843232b149",
   "metadata": {
    "tags": []
   },
   "outputs": [],
   "source": [
    "import awswrangler as wr\n",
    "import pandas as pd\n",
    "import numpy as np\n",
    "import matplotlib.pyplot as plt\n",
    "import seaborn as sns\n",
    "%matplotlib inline\n",
    "plt.rcParams[\"figure.figsize\"] =8,4 # para ajustar el tamaño de imagen\n",
    "import warnings\n",
    "warnings.filterwarnings(\"ignore\") #para evitar errores de operaciones matematicas\n",
    "import random\n",
    "import statistics\n",
    "import math\n",
    "#from pandas_profiling import ProfileReport"
   ]
  },
  {
   "cell_type": "code",
   "execution_count": 13,
   "id": "f540b080-04d0-4b66-aac9-33ac2d7c2e9a",
   "metadata": {
    "tags": []
   },
   "outputs": [],
   "source": [
    "dataset = wr.s3.read_csv(path='s3://data-tecnicas-muestreo/datasets/train_multiple.csv')"
   ]
  },
  {
   "cell_type": "code",
   "execution_count": 14,
   "id": "69a9ca64-ff11-4230-8baf-623eff56f6dd",
   "metadata": {
    "tags": []
   },
   "outputs": [
    {
     "data": {
      "text/html": [
       "<div>\n",
       "<style scoped>\n",
       "    .dataframe tbody tr th:only-of-type {\n",
       "        vertical-align: middle;\n",
       "    }\n",
       "\n",
       "    .dataframe tbody tr th {\n",
       "        vertical-align: top;\n",
       "    }\n",
       "\n",
       "    .dataframe thead th {\n",
       "        text-align: right;\n",
       "    }\n",
       "</style>\n",
       "<table border=\"1\" class=\"dataframe\">\n",
       "  <thead>\n",
       "    <tr style=\"text-align: right;\">\n",
       "      <th></th>\n",
       "      <th>pet_id</th>\n",
       "      <th>issue_date</th>\n",
       "      <th>listing_date</th>\n",
       "      <th>condition</th>\n",
       "      <th>color_type</th>\n",
       "      <th>length(m)</th>\n",
       "      <th>height(cm)</th>\n",
       "      <th>X1</th>\n",
       "      <th>X2</th>\n",
       "      <th>breed_category</th>\n",
       "      <th>pet_category</th>\n",
       "    </tr>\n",
       "  </thead>\n",
       "  <tbody>\n",
       "    <tr>\n",
       "      <th>0</th>\n",
       "      <td>ANSL_69903</td>\n",
       "      <td>2016-07-10 00:00:00</td>\n",
       "      <td>2016-09-21 16:25:00</td>\n",
       "      <td>2.0</td>\n",
       "      <td>Brown Tabby</td>\n",
       "      <td>0.80</td>\n",
       "      <td>7.78</td>\n",
       "      <td>13</td>\n",
       "      <td>9</td>\n",
       "      <td>0.0</td>\n",
       "      <td>1</td>\n",
       "    </tr>\n",
       "    <tr>\n",
       "      <th>1</th>\n",
       "      <td>ANSL_66892</td>\n",
       "      <td>2013-11-21 00:00:00</td>\n",
       "      <td>2018-12-27 17:47:00</td>\n",
       "      <td>1.0</td>\n",
       "      <td>White</td>\n",
       "      <td>0.72</td>\n",
       "      <td>14.19</td>\n",
       "      <td>13</td>\n",
       "      <td>9</td>\n",
       "      <td>0.0</td>\n",
       "      <td>2</td>\n",
       "    </tr>\n",
       "    <tr>\n",
       "      <th>2</th>\n",
       "      <td>ANSL_69750</td>\n",
       "      <td>2014-09-28 00:00:00</td>\n",
       "      <td>2016-10-19 08:24:00</td>\n",
       "      <td>NaN</td>\n",
       "      <td>Brown</td>\n",
       "      <td>0.15</td>\n",
       "      <td>40.90</td>\n",
       "      <td>15</td>\n",
       "      <td>4</td>\n",
       "      <td>2.0</td>\n",
       "      <td>3</td>\n",
       "    </tr>\n",
       "    <tr>\n",
       "      <th>3</th>\n",
       "      <td>ANSL_71623</td>\n",
       "      <td>2016-12-31 00:00:00</td>\n",
       "      <td>2019-01-25 18:30:00</td>\n",
       "      <td>1.0</td>\n",
       "      <td>White</td>\n",
       "      <td>0.62</td>\n",
       "      <td>17.82</td>\n",
       "      <td>0</td>\n",
       "      <td>1</td>\n",
       "      <td>0.0</td>\n",
       "      <td>2</td>\n",
       "    </tr>\n",
       "    <tr>\n",
       "      <th>4</th>\n",
       "      <td>ANSL_57969</td>\n",
       "      <td>2017-09-28 00:00:00</td>\n",
       "      <td>2017-11-19 09:38:00</td>\n",
       "      <td>2.0</td>\n",
       "      <td>Black</td>\n",
       "      <td>0.50</td>\n",
       "      <td>11.06</td>\n",
       "      <td>18</td>\n",
       "      <td>4</td>\n",
       "      <td>0.0</td>\n",
       "      <td>1</td>\n",
       "    </tr>\n",
       "  </tbody>\n",
       "</table>\n",
       "</div>"
      ],
      "text/plain": [
       "       pet_id           issue_date         listing_date  condition  \\\n",
       "0  ANSL_69903  2016-07-10 00:00:00  2016-09-21 16:25:00        2.0   \n",
       "1  ANSL_66892  2013-11-21 00:00:00  2018-12-27 17:47:00        1.0   \n",
       "2  ANSL_69750  2014-09-28 00:00:00  2016-10-19 08:24:00        NaN   \n",
       "3  ANSL_71623  2016-12-31 00:00:00  2019-01-25 18:30:00        1.0   \n",
       "4  ANSL_57969  2017-09-28 00:00:00  2017-11-19 09:38:00        2.0   \n",
       "\n",
       "    color_type  length(m)  height(cm)  X1  X2  breed_category  pet_category  \n",
       "0  Brown Tabby       0.80        7.78  13   9             0.0             1  \n",
       "1        White       0.72       14.19  13   9             0.0             2  \n",
       "2        Brown       0.15       40.90  15   4             2.0             3  \n",
       "3        White       0.62       17.82   0   1             0.0             2  \n",
       "4        Black       0.50       11.06  18   4             0.0             1  "
      ]
     },
     "execution_count": 14,
     "metadata": {},
     "output_type": "execute_result"
    }
   ],
   "source": [
    "dataset.head()"
   ]
  },
  {
   "cell_type": "code",
   "execution_count": 15,
   "id": "75bc184c-1891-480e-b117-7bc9471c214e",
   "metadata": {
    "tags": []
   },
   "outputs": [
    {
     "name": "stdout",
     "output_type": "stream",
     "text": [
      "<class 'pandas.core.frame.DataFrame'>\n",
      "RangeIndex: 18834 entries, 0 to 18833\n",
      "Data columns (total 11 columns):\n",
      " #   Column          Non-Null Count  Dtype  \n",
      "---  ------          --------------  -----  \n",
      " 0   pet_id          18834 non-null  object \n",
      " 1   issue_date      18834 non-null  object \n",
      " 2   listing_date    18834 non-null  object \n",
      " 3   condition       17357 non-null  float64\n",
      " 4   color_type      18834 non-null  object \n",
      " 5   length(m)       18834 non-null  float64\n",
      " 6   height(cm)      18834 non-null  float64\n",
      " 7   X1              18834 non-null  int64  \n",
      " 8   X2              18834 non-null  int64  \n",
      " 9   breed_category  18834 non-null  float64\n",
      " 10  pet_category    18834 non-null  int64  \n",
      "dtypes: float64(4), int64(3), object(4)\n",
      "memory usage: 1.6+ MB\n"
     ]
    }
   ],
   "source": [
    "dataset.info()"
   ]
  },
  {
   "cell_type": "code",
   "execution_count": 5,
   "id": "991fc49a-6227-4400-844f-3a833dea711c",
   "metadata": {},
   "outputs": [],
   "source": [
    "#dataset.rename(columns = {'Loan Status':'Loan_Status'}, inplace = True)\n",
    "#dataset.rename(columns = {'Total Collection Amount':'total'}, inplace = True)  "
   ]
  },
  {
   "cell_type": "code",
   "execution_count": 72,
   "id": "a325235e-b679-41f0-894b-46c479547be3",
   "metadata": {},
   "outputs": [],
   "source": [
    "#wr.s3.to_csv(df = dataset, path = 's3://data-tecnicas-muestreo/datasets/train_multiple.csv', index=False)"
   ]
  },
  {
   "cell_type": "code",
   "execution_count": 6,
   "id": "01362d94-239c-472e-82da-8feb72be5c31",
   "metadata": {},
   "outputs": [],
   "source": [
    "#dataset['pet_category'].value_counts().sort_index().index.tolist()"
   ]
  },
  {
   "cell_type": "code",
   "execution_count": 7,
   "id": "829b3f75-269c-4316-94ff-6be6ac2a140d",
   "metadata": {},
   "outputs": [],
   "source": [
    "#dataset['pet_category'].value_counts()/len(target)"
   ]
  },
  {
   "cell_type": "code",
   "execution_count": 75,
   "id": "4b321f40-1f55-498b-8018-dc6aaba85f02",
   "metadata": {},
   "outputs": [],
   "source": [
    "# dataset.rename(columns = {'Loan Status':'Loan_Status'}, inplace = True)\n",
    "# dataset.rename(columns = {'Total Collection Amount':'total'}, inplace = True)  "
   ]
  },
  {
   "cell_type": "code",
   "execution_count": 17,
   "id": "afb0737b-d3de-4e4c-843c-ba8a479058ce",
   "metadata": {
    "tags": []
   },
   "outputs": [],
   "source": [
    "#dataset['pet_category'] = dataset['pet_category'].replace(4, 3)"
   ]
  },
  {
   "cell_type": "code",
   "execution_count": 18,
   "id": "1bba8190-a70c-4cde-b0e5-55b757731fb1",
   "metadata": {
    "tags": []
   },
   "outputs": [
    {
     "data": {
      "text/plain": [
       "2    10621\n",
       "1     7184\n",
       "3      941\n",
       "0       88\n",
       "Name: pet_category, dtype: int64"
      ]
     },
     "execution_count": 18,
     "metadata": {},
     "output_type": "execute_result"
    }
   ],
   "source": [
    "dataset.pet_category.value_counts()"
   ]
  },
  {
   "cell_type": "code",
   "execution_count": 19,
   "id": "f6e871f3-f064-4d90-b1ca-709c82fd8394",
   "metadata": {
    "tags": []
   },
   "outputs": [
    {
     "data": {
      "text/plain": [
       "count    18834.000000\n",
       "mean         5.369598\n",
       "std          6.572366\n",
       "min          0.000000\n",
       "25%          0.000000\n",
       "50%          0.000000\n",
       "75%         13.000000\n",
       "max         19.000000\n",
       "Name: X1, dtype: float64"
      ]
     },
     "execution_count": 19,
     "metadata": {},
     "output_type": "execute_result"
    }
   ],
   "source": [
    "dataset.X1.describe()"
   ]
  },
  {
   "cell_type": "code",
   "execution_count": 20,
   "id": "dcb6f6a8-fe46-463e-89cf-4264c2f35212",
   "metadata": {
    "tags": []
   },
   "outputs": [
    {
     "data": {
      "text/plain": [
       "{'paths': ['s3://data-tecnicas-muestreo/datasets/train_multiple.csv'],\n",
       " 'partitions_values': {}}"
      ]
     },
     "execution_count": 20,
     "metadata": {},
     "output_type": "execute_result"
    }
   ],
   "source": [
    "wr.s3.to_csv(df = dataset, path = 's3://data-tecnicas-muestreo/datasets/train_multiple.csv', index=False)"
   ]
  },
  {
   "cell_type": "markdown",
   "id": "afe3dcfb-e881-47e9-a004-477850365181",
   "metadata": {},
   "source": [
    "### Definimos la variable target y la variable a estimar"
   ]
  },
  {
   "cell_type": "code",
   "execution_count": 21,
   "id": "1f0112ca-8b3c-453e-afac-cff1ed14870f",
   "metadata": {
    "tags": []
   },
   "outputs": [],
   "source": [
    "target = dataset.pet_category\n",
    "estimador = dataset.X1"
   ]
  },
  {
   "cell_type": "code",
   "execution_count": 23,
   "id": "11e9ffb3-9875-4d71-8a79-2951e6b398f4",
   "metadata": {
    "tags": []
   },
   "outputs": [],
   "source": [
    "def estratificado (target, estimador, LEE):\n",
    "    v = []\n",
    "    p = []\n",
    "    n = []\n",
    "    L = []\n",
    "    ni = []\n",
    "    index_sample = []\n",
    "    mean_est = []\n",
    "    target_sample = []\n",
    "    var_mean_est = []\n",
    "    error_est = []\n",
    "    LI = []\n",
    "    LS = []\n",
    "    data_filtrada = pd.DataFrame()\n",
    "    \n",
    "    \n",
    "    \n",
    "    N = len(dataset)\n",
    "   \n",
    "    D =  pow(LEE, 2)/4\n",
    "\n",
    "\n",
    "    \n",
    "    for i in target.value_counts().sort_index().index.tolist(): # range(0, len(target.unique()))\n",
    "        \n",
    "        v.append(statistics.variance(dataset[target == sorted(target.unique())[i]][estimador.name]))\n",
    "        p.append(target.value_counts()[i]/len(target))\n",
    "        n.append(target.value_counts()[i])\n",
    "        \n",
    "        L = (np.multiply(np.power(n, 2), v)/p)/( np.power(N, 2)*D + np.multiply(n, v)   )\n",
    "        \n",
    "        \n",
    "        \n",
    "    for i in target.value_counts().sort_index().index.tolist():   \n",
    "        \n",
    "        ni = round((round(np.sum(L))* target.value_counts()/len(target)))\n",
    "        \n",
    "        \n",
    "        index_sample.append(random.sample(list(dataset[target == sorted(target.unique())[i]].index), int(ni[i]) )) # \n",
    "        \n",
    "        target_sample.append(estimador[index_sample[i]])\n",
    "    \n",
    "        mean_est.append(target_sample[i].mean())\n",
    "        \n",
    "        var_mean_est.append((np.var(target_sample[i])/ni[i])*(1-(ni[i]/n[i])))  # varianza proporcion CP estimada muestra\n",
    "        \n",
    "        error_est.append(2*math.sqrt(var_mean_est[i]))\n",
    "        \n",
    "        LI.append(mean_est[i] - error_est[i])  # limite superior estimado estimacion poblacional\n",
    "        LS.append(mean_est[i] + error_est[i])  # limite inferior estimado estimacion poblacional\n",
    "        \n",
    "        data_filtrada = data_filtrada.append(dataset.iloc[target_sample[i].index, :])\n",
    "        \n",
    "        print(\"Estrato o categoria:\", i)\n",
    "        print(\"El intervalo de confianza de la proporcion esta entre\", \"[\",LI[i], LS[i],\"]\")\n",
    "        print(\"tamaño total poblacional:\" , n[i] )\n",
    "        print(\"tamaño de muestra estimada:\" , round(ni[i] ))\n",
    "        print(\"promedio poblacional estimado:\" , dataset[target == sorted(target.unique())[i]][estimador.name].mean() )\n",
    "        print(\"promedio muestral estimado:\" , mean_est[i] )\n",
    "        print(\"error de estimacion:\" , error_est[i] )\n",
    "        print(\"\")\n",
    "        \n",
    "        \n",
    "    print(\"distribucion en porcentaje variable target (poblacion)\")   \n",
    "    print(target.value_counts().sort_index()*100/len(dataset))\n",
    "    print(\"\")\n",
    "    print(\"distribucion en porcentaje variable target (muestra)\")\n",
    "    print(data_filtrada[target.name].value_counts().sort_index()*100/len(data_filtrada))\n",
    "    \n",
    "        \n",
    "    return(data_filtrada)"
   ]
  },
  {
   "cell_type": "code",
   "execution_count": 24,
   "id": "eb5d40e2-efa5-4995-ac7d-eb2bd38b2c8a",
   "metadata": {
    "tags": []
   },
   "outputs": [
    {
     "name": "stdout",
     "output_type": "stream",
     "text": [
      "Estrato o categoria: 0\n",
      "El intervalo de confianza de la proporcion esta entre [ 6.14506775540828 12.72993224459172 ]\n",
      "tamaño total poblacional: 88\n",
      "tamaño de muestra estimada: 16\n",
      "promedio poblacional estimado: 6.5227272727272725\n",
      "promedio muestral estimado: 9.4375\n",
      "error de estimacion: 3.29243224459172\n",
      "\n",
      "Estrato o categoria: 1\n",
      "El intervalo de confianza de la proporcion esta entre [ 7.424996316612049 8.099632299494285 ]\n",
      "tamaño total poblacional: 7184\n",
      "tamaño de muestra estimada: 1279\n",
      "promedio poblacional estimado: 7.56055122494432\n",
      "promedio muestral estimado: 7.762314308053167\n",
      "error de estimacion: 0.33731799144111796\n",
      "\n",
      "Estrato o categoria: 2\n",
      "El intervalo de confianza de la proporcion esta entre [ 3.1963730773021792 3.6645470707676253 ]\n",
      "tamaño total poblacional: 10621\n",
      "tamaño de muestra estimada: 1891\n",
      "promedio poblacional estimado: 3.263911119480275\n",
      "promedio muestral estimado: 3.4304600740349023\n",
      "error de estimacion: 0.234086996732723\n",
      "\n",
      "Estrato o categoria: 3\n",
      "El intervalo de confianza de la proporcion esta entre [ 12.27499261303556 13.594055006012061 ]\n",
      "tamaño total poblacional: 941\n",
      "tamaño de muestra estimada: 168\n",
      "promedio poblacional estimado: 12.301806588735388\n",
      "promedio muestral estimado: 12.93452380952381\n",
      "error de estimacion: 0.6595311964882504\n",
      "\n",
      "distribucion en porcentaje variable target (poblacion)\n",
      "0     0.467240\n",
      "1    38.143783\n",
      "2    56.392694\n",
      "3     4.996283\n",
      "Name: pet_category, dtype: float64\n",
      "\n",
      "distribucion en porcentaje variable target (muestra)\n",
      "0     0.477042\n",
      "1    38.133572\n",
      "2    56.380441\n",
      "3     5.008945\n",
      "Name: pet_category, dtype: float64\n"
     ]
    }
   ],
   "source": [
    "df1 = estratificado(target, estimador, 0.2)"
   ]
  },
  {
   "cell_type": "code",
   "execution_count": 25,
   "id": "91cc30ea-422e-463d-bc80-ab377f18388b",
   "metadata": {
    "tags": []
   },
   "outputs": [
    {
     "data": {
      "text/html": [
       "<div>\n",
       "<style scoped>\n",
       "    .dataframe tbody tr th:only-of-type {\n",
       "        vertical-align: middle;\n",
       "    }\n",
       "\n",
       "    .dataframe tbody tr th {\n",
       "        vertical-align: top;\n",
       "    }\n",
       "\n",
       "    .dataframe thead th {\n",
       "        text-align: right;\n",
       "    }\n",
       "</style>\n",
       "<table border=\"1\" class=\"dataframe\">\n",
       "  <thead>\n",
       "    <tr style=\"text-align: right;\">\n",
       "      <th></th>\n",
       "      <th>pet_id</th>\n",
       "      <th>issue_date</th>\n",
       "      <th>listing_date</th>\n",
       "      <th>condition</th>\n",
       "      <th>color_type</th>\n",
       "      <th>length(m)</th>\n",
       "      <th>height(cm)</th>\n",
       "      <th>X1</th>\n",
       "      <th>X2</th>\n",
       "      <th>breed_category</th>\n",
       "      <th>pet_category</th>\n",
       "    </tr>\n",
       "  </thead>\n",
       "  <tbody>\n",
       "    <tr>\n",
       "      <th>8468</th>\n",
       "      <td>ANSL_57882</td>\n",
       "      <td>2017-01-09 00:00:00</td>\n",
       "      <td>2018-02-03 13:11:00</td>\n",
       "      <td>NaN</td>\n",
       "      <td>Gray</td>\n",
       "      <td>0.86</td>\n",
       "      <td>35.39</td>\n",
       "      <td>0</td>\n",
       "      <td>7</td>\n",
       "      <td>2.0</td>\n",
       "      <td>0</td>\n",
       "    </tr>\n",
       "    <tr>\n",
       "      <th>1675</th>\n",
       "      <td>ANSL_58939</td>\n",
       "      <td>2017-05-14 00:00:00</td>\n",
       "      <td>2017-12-10 13:57:00</td>\n",
       "      <td>NaN</td>\n",
       "      <td>Brown</td>\n",
       "      <td>0.83</td>\n",
       "      <td>20.29</td>\n",
       "      <td>0</td>\n",
       "      <td>1</td>\n",
       "      <td>2.0</td>\n",
       "      <td>0</td>\n",
       "    </tr>\n",
       "    <tr>\n",
       "      <th>8349</th>\n",
       "      <td>ANSL_66880</td>\n",
       "      <td>2015-08-04 00:00:00</td>\n",
       "      <td>2016-08-25 13:13:00</td>\n",
       "      <td>NaN</td>\n",
       "      <td>Brown</td>\n",
       "      <td>0.52</td>\n",
       "      <td>11.01</td>\n",
       "      <td>18</td>\n",
       "      <td>4</td>\n",
       "      <td>2.0</td>\n",
       "      <td>0</td>\n",
       "    </tr>\n",
       "    <tr>\n",
       "      <th>18645</th>\n",
       "      <td>ANSL_76740</td>\n",
       "      <td>2018-04-01 00:00:00</td>\n",
       "      <td>2019-05-09 19:42:00</td>\n",
       "      <td>2.0</td>\n",
       "      <td>Black</td>\n",
       "      <td>0.52</td>\n",
       "      <td>30.31</td>\n",
       "      <td>7</td>\n",
       "      <td>1</td>\n",
       "      <td>1.0</td>\n",
       "      <td>0</td>\n",
       "    </tr>\n",
       "    <tr>\n",
       "      <th>14619</th>\n",
       "      <td>ANSL_73298</td>\n",
       "      <td>2016-01-10 00:00:00</td>\n",
       "      <td>2017-01-31 19:28:00</td>\n",
       "      <td>NaN</td>\n",
       "      <td>Orange</td>\n",
       "      <td>0.76</td>\n",
       "      <td>43.74</td>\n",
       "      <td>18</td>\n",
       "      <td>4</td>\n",
       "      <td>2.0</td>\n",
       "      <td>0</td>\n",
       "    </tr>\n",
       "  </tbody>\n",
       "</table>\n",
       "</div>"
      ],
      "text/plain": [
       "           pet_id           issue_date         listing_date  condition  \\\n",
       "8468   ANSL_57882  2017-01-09 00:00:00  2018-02-03 13:11:00        NaN   \n",
       "1675   ANSL_58939  2017-05-14 00:00:00  2017-12-10 13:57:00        NaN   \n",
       "8349   ANSL_66880  2015-08-04 00:00:00  2016-08-25 13:13:00        NaN   \n",
       "18645  ANSL_76740  2018-04-01 00:00:00  2019-05-09 19:42:00        2.0   \n",
       "14619  ANSL_73298  2016-01-10 00:00:00  2017-01-31 19:28:00        NaN   \n",
       "\n",
       "      color_type  length(m)  height(cm)  X1  X2  breed_category  pet_category  \n",
       "8468        Gray       0.86       35.39   0   7             2.0             0  \n",
       "1675       Brown       0.83       20.29   0   1             2.0             0  \n",
       "8349       Brown       0.52       11.01  18   4             2.0             0  \n",
       "18645      Black       0.52       30.31   7   1             1.0             0  \n",
       "14619     Orange       0.76       43.74  18   4             2.0             0  "
      ]
     },
     "execution_count": 25,
     "metadata": {},
     "output_type": "execute_result"
    }
   ],
   "source": [
    "df1.head()"
   ]
  },
  {
   "cell_type": "markdown",
   "id": "2e6ce5e8-8614-4fcd-ae71-0e169582b665",
   "metadata": {},
   "source": [
    "### Interpretacion"
   ]
  },
  {
   "cell_type": "markdown",
   "id": "22bb72b6-8c61-4ecf-94fa-c21ee17e5cfa",
   "metadata": {
    "tags": []
   },
   "source": [
    "\n",
    "\n",
    "El objetivo final del muestreo estratificado es mantener la proporcionalidad de las categoria en interes, en este caso los diferentes tipo de mascota, asi comparamos la tabla de distribucion de la poblacion vs la tabla de distribucion de la muestra, se observa que se asemejan de proporcional las diferentes distribucion de la categoria de interes, esto es lo que buscamos.\n",
    "\n",
    "Cada estrato (pet_category)  se intepreta tal cual un muestreo aleatorio simple.\n",
    "\n",
    "Importante señalar que para cada estrato se ejecuta un diferente error de estimacion, esto es por los distintas cantidades de elemento en cada estrato.\n",
    "\n",
    "\n",
    "\n"
   ]
  },
  {
   "cell_type": "code",
   "execution_count": null,
   "id": "0e84d0a8-2682-4bd8-80e0-b4b6b2c5aca8",
   "metadata": {},
   "outputs": [],
   "source": []
  }
 ],
 "metadata": {
  "kernelspec": {
   "display_name": "conda_python3",
   "language": "python",
   "name": "conda_python3"
  },
  "language_info": {
   "codemirror_mode": {
    "name": "ipython",
    "version": 3
   },
   "file_extension": ".py",
   "mimetype": "text/x-python",
   "name": "python",
   "nbconvert_exporter": "python",
   "pygments_lexer": "ipython3",
   "version": "3.10.8"
  }
 },
 "nbformat": 4,
 "nbformat_minor": 5
}
