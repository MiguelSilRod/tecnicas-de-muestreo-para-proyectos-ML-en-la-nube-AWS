{
 "cells": [
  {
   "cell_type": "code",
   "execution_count": 1,
   "id": "44539263",
   "metadata": {},
   "outputs": [],
   "source": [
    "!pip -q install awswrangler"
   ]
  },
  {
   "cell_type": "code",
   "execution_count": 2,
   "id": "98884c71",
   "metadata": {},
   "outputs": [],
   "source": [
    "import awswrangler as wr"
   ]
  },
  {
   "cell_type": "code",
   "execution_count": 3,
   "id": "39068719",
   "metadata": {},
   "outputs": [],
   "source": [
    "import pandas as pd\n",
    "import awswrangler as wr\n",
    "import sagemaker\n",
    "from sagemaker import get_execution_role\n",
    "import datetime\n",
    "from sagemaker.sklearn.estimator import SKLearn\n",
    "import boto3\n",
    "from sagemaker import image_uris\n",
    "from sagemaker.session import Session\n",
    "from sagemaker.inputs import TrainingInput\n",
    "from sagemaker.model import Model\n",
    "from sagemaker.pipeline import PipelineModel\n",
    "from sagemaker.sklearn import SKLearn\n",
    "from sagemaker.sklearn.model import SKLearnModel\n",
    "\n",
    "sagemaker_session = sagemaker.Session()\n",
    "role = get_execution_role()"
   ]
  },
  {
   "cell_type": "code",
   "execution_count": 4,
   "id": "2edf6dbb",
   "metadata": {},
   "outputs": [],
   "source": [
    "import awswrangler as wr\n",
    "import pandas as pd\n",
    "import numpy as np\n",
    "import matplotlib.pyplot as plt\n",
    "import seaborn as sns\n",
    "%matplotlib inline\n",
    "plt.rcParams[\"figure.figsize\"] =8,4 # para ajustar el tamaño de imagen\n",
    "import warnings\n",
    "warnings.filterwarnings(\"ignore\") #para evitar errores de operaciones matematicas\n",
    "import random\n",
    "import statistics\n",
    "import math\n",
    "#from pandas_profiling import ProfileReport"
   ]
  },
  {
   "cell_type": "code",
   "execution_count": 5,
   "id": "8cd06858",
   "metadata": {},
   "outputs": [],
   "source": [
    "tecnica='muestreo-estratificado'\n",
    "\n",
    "main_path_s3='s3://data-tecnicas-muestreo/'\n",
    "output_path = 's3://data-tecnicas-muestreo/'"
   ]
  },
  {
   "cell_type": "code",
   "execution_count": 6,
   "id": "84351f92",
   "metadata": {},
   "outputs": [
    {
     "name": "stderr",
     "output_type": "stream",
     "text": [
      "INFO:sagemaker:Creating training-job with name: muestreo-estratificado-20230310-233722\n"
     ]
    },
    {
     "name": "stdout",
     "output_type": "stream",
     "text": [
      "\n",
      "2023-03-10 23:37:23 Starting - Starting the training job..\n",
      "2023-03-10 23:37:37 Starting - Preparing the instances for training........\n",
      "2023-03-10 23:38:23 Downloading - Downloading input data....\n",
      "2023-03-10 23:38:48 Training - Downloading the training image\n",
      "2023-03-10 23:38:53 Training - Training image download completed. Training in progress............\n",
      "2023-03-10 23:39:54 Uploading - Uploading generated training model.\n",
      "2023-03-10 23:40:00 Completed - Training job completed\n",
      "muestreo-estratificado-20230310-233722\n",
      "CPU times: user 338 ms, sys: 21.4 ms, total: 359 ms\n",
      "Wall time: 2min 42s\n"
     ]
    }
   ],
   "source": [
    "%%time\n",
    "FRAMEWORK_VERSION = \"0.23-1\"\n",
    "script_path = 'training_job_muestreo_estratificado_estimacion_puntual.py'\n",
    "sklearn_preprocessor = SKLearn(\n",
    "    entry_point=script_path,\n",
    "    role=role,\n",
    "    framework_version=FRAMEWORK_VERSION,\n",
    "    instance_type=\"ml.m5.4xlarge\",\n",
    "    sagemaker_session=sagemaker_session)\n",
    "\n",
    "\n",
    "\n",
    "\n",
    "timestamp = datetime.datetime.now().strftime('%Y%m%d-%H%M%S')\n",
    "pre_job_name = f'{tecnica}-{timestamp}'\n",
    "\n",
    "sklearn_preprocessor.fit(\n",
    "    {'train': main_path_s3},\n",
    "    {'multi-output-path': output_path},\n",
    "    logs='None',\n",
    "    job_name=pre_job_name\n",
    ")\n",
    "print(pre_job_name)"
   ]
  },
  {
   "cell_type": "code",
   "execution_count": null,
   "id": "e395ca59",
   "metadata": {},
   "outputs": [],
   "source": []
  },
  {
   "cell_type": "code",
   "execution_count": null,
   "id": "d79819ef-3dbf-405c-a375-88771a75b4f0",
   "metadata": {},
   "outputs": [],
   "source": []
  }
 ],
 "metadata": {
  "kernelspec": {
   "display_name": "conda_python3",
   "language": "python",
   "name": "conda_python3"
  },
  "language_info": {
   "codemirror_mode": {
    "name": "ipython",
    "version": 3
   },
   "file_extension": ".py",
   "mimetype": "text/x-python",
   "name": "python",
   "nbconvert_exporter": "python",
   "pygments_lexer": "ipython3",
   "version": "3.10.8"
  }
 },
 "nbformat": 4,
 "nbformat_minor": 5
}
